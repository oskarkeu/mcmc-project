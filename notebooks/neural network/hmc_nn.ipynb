{
 "cells": [
  {
   "cell_type": "code",
   "execution_count": 333,
   "metadata": {
    "collapsed": true
   },
   "outputs": [],
   "source": [
    "import numpy as np\n",
    "import matplotlib.pyplot as plt\n",
    "import torch\n",
    "import torch.nn as nn\n",
    "import time"
   ]
  },
  {
   "cell_type": "code",
   "execution_count": 334,
   "metadata": {
    "collapsed": true
   },
   "outputs": [],
   "source": [
    "class Simulator:\n",
    "    \n",
    "    def __init__(self, w, b, sigma, N, design_range=(-10,10)):\n",
    "        self.w = w\n",
    "        self.b = b\n",
    "        self.theta = np.expand_dims(np.concatenate([w, [b]], axis=0), axis=1)\n",
    "        self.sigma = sigma\n",
    "        self.N = N\n",
    "        self.design_range = design_range\n",
    "        self.X = None\n",
    "        self.y = None\n",
    "        self.y_mean = None\n",
    "        \n",
    "    def run(self):\n",
    "        designs = np.random.uniform(self.design_range[0], self.design_range[1], size=(self.N, self.w.size))\n",
    "        self.X = np.concatenate([designs, np.ones((self.N, 1))], axis=1)\n",
    "        self.y_mean = (self.X @ self.theta).squeeze()\n",
    "        self.y = np.random.multivariate_normal(mean=self.y_mean, cov=np.diag([self.sigma**2] * self.N))\n",
    "    \n",
    "    def plot(self):\n",
    "        x = self.X[:, 0]\n",
    "        plt.scatter(x, self.y, label=\"data\")\n",
    "        x_dense = np.linspace(self.design_range[0], self.design_range[1], 100)\n",
    "        y_dense = x_dense * self.w[0] + self.b\n",
    "        plt.plot(x_dense, y_dense, label=\"y mean\")\n",
    "        plt.xlabel(\"x\")\n",
    "        plt.ylabel(\"y\")\n",
    "        plt.legend()\n",
    "        plt.title(\"Simulated data, N=\"+str(self.N))\n",
    "        plt.show()"
   ]
  },
  {
   "cell_type": "code",
   "execution_count": 335,
   "metadata": {
    "collapsed": true
   },
   "outputs": [],
   "source": [
    "class MLP(nn.Module):\n",
    "    def __init__(self):\n",
    "        super(MLP, self).__init__()\n",
    "        self.layer_1 = nn.Linear(d + 1, 2)\n",
    "        self.output_layer = nn.Linear(2, 1, bias=False)\n",
    "    def forward(self, x):\n",
    "        x = torch.sigmoid(self.layer_1(x))\n",
    "        return self.output_layer(x)"
   ]
  },
  {
   "cell_type": "code",
   "execution_count": 336,
   "metadata": {
    "collapsed": true
   },
   "outputs": [],
   "source": [
    "# Helper function for collecting nn gradient into a vector\n",
    "def collect_grads(model):\n",
    "    return torch.cat([p.grad.data.view(1, -1) for p in model.parameters()], dim=-1)\n",
    "\n",
    "# Helper function for computing sizes of all nn parameters\n",
    "def get_param_sizes(model):\n",
    "    return [p.reshape(-1).size()[0] for p in model.parameters()]\n",
    "\n",
    "# Helper function for writing the updated weights\n",
    "def update_params(new_params, model, param_sizes):\n",
    "    start_index = 0\n",
    "    for i, p in enumerate(model.parameters()):\n",
    "        end_index = start_index + param_sizes[i]\n",
    "        source_tensor = new_params[:, start_index:end_index].reshape(p.shape)\n",
    "        p.data = source_tensor\n",
    "        start_index = end_index\n",
    "        \n",
    "def collect_params(model):\n",
    "    return torch.cat([p.data.view(1, -1) for p in model.parameters()], dim=-1)\n",
    "\n",
    "def print_params(model):\n",
    "    for p in model.parameters():\n",
    "        print(p.data)"
   ]
  },
  {
   "cell_type": "code",
   "execution_count": 337,
   "metadata": {
    "collapsed": true
   },
   "outputs": [],
   "source": [
    "# True weight(s)\n",
    "w = np.array([1.5, -1.0, 0.7])\n",
    "\n",
    "# Input dimensionality\n",
    "d = w.size\n",
    "\n",
    "# True intercept\n",
    "b = 0.5\n",
    "\n",
    "# True standard deviation\n",
    "sigma = 0.5\n",
    "\n",
    "# Number of data points\n",
    "N = 100\n",
    "\n",
    "# Defines range of inputs x\n",
    "design_range = (-1.0, 1.0)\n",
    "\n",
    "# Simulate\n",
    "simulator = Simulator(w, b, sigma, N, design_range)\n",
    "simulator.run()\n",
    "\n",
    "X = simulator.X\n",
    "y = simulator.y\n",
    "\n",
    "true_params = np.concatenate([[sigma], w, [b]], axis=0)"
   ]
  },
  {
   "cell_type": "code",
   "execution_count": 338,
   "metadata": {
    "collapsed": true
   },
   "outputs": [],
   "source": [
    "# Helper function for constructing potential energy function\n",
    "def create_U(X, y, sigma_0):\n",
    "    \n",
    "    def U(nn, tau):\n",
    "        fit = 0.5 * tau * ((y - nn(X)) ** 2).sum()\n",
    "        params = collect_params(nn)\n",
    "        l2 = (params ** 2).sum()\n",
    "        reg = l2 / (2 * sigma_0 ** 2)\n",
    "        return fit + reg\n",
    "    \n",
    "    return U\n",
    "\n",
    "# Helper function for constructing gradient of potential energy function\n",
    "def create_grad_U(X, y, sigma_0):\n",
    "    \n",
    "    def grad_U(nn, tau, U):\n",
    "        PE = U(nn, tau)\n",
    "        nn.zero_grad()\n",
    "        PE.backward()\n",
    "        grad = collect_grads(nn)\n",
    "        return grad\n",
    "    \n",
    "    return grad_U\n",
    "\n",
    "\n",
    "# Helper function for constructing conditional distribution for tau\n",
    "def create_p_tau(X, y, alpha_0, beta_0, N):\n",
    "    alpha = alpha_0 + N / 2\n",
    "    \n",
    "    def p_tau(tau, nn):\n",
    "        z = y - nn(X)\n",
    "        beta = (beta_0 + 0.5 * z.T @ z).detach().numpy().item()\n",
    "        return np.random.gamma(alpha, 1 / beta)\n",
    "    \n",
    "    return p_tau"
   ]
  },
  {
   "cell_type": "code",
   "execution_count": 339,
   "metadata": {
    "collapsed": true
   },
   "outputs": [],
   "source": [
    "class ODESolver:\n",
    "    \n",
    "    def __init__(self, grad_U, epsilon, L, m, param_sizes):\n",
    "        self.grad_U = grad_U\n",
    "        self.epsilon = epsilon\n",
    "        self.L = L\n",
    "        self.m = m\n",
    "        self.param_sizes = param_sizes\n",
    "        \n",
    "    def dq(self, p):\n",
    "        return p / self.m\n",
    "    \n",
    "    def leapfrog(self, q, p, tau, nn):\n",
    "        p = p - self.epsilon * self.grad_U(nn, tau, U) / 2\n",
    "        for i in range(self.L):\n",
    "            t1 = time.time()\n",
    "            with torch.no_grad():\n",
    "                q = q + self.epsilon * self.dq(p)\n",
    "                update_params(q, nn, self.param_sizes)\n",
    "            if i != self.L - 1:\n",
    "                p = p - self.epsilon * self.grad_U(nn, tau, U)\n",
    "        p = p - self.epsilon * self.grad_U(nn, tau, U) / 2\n",
    "        p = -p\n",
    "        return q, p"
   ]
  },
  {
   "cell_type": "code",
   "execution_count": 340,
   "metadata": {
    "collapsed": true
   },
   "outputs": [],
   "source": [
    "class HMC:\n",
    "    \n",
    "    def __init__(self, U, grad_U, p_tau, m, num_params, solver):\n",
    "        self.U = U\n",
    "        self.grad_U = grad_U\n",
    "        self.p_tau = p_tau\n",
    "        self.m = m\n",
    "        self.num_params = num_params\n",
    "        self.solver = solver\n",
    "        self.samples = None\n",
    "    \n",
    "    def step(self, q, tau, model, param_sizes):\n",
    "        \n",
    "        p = np.random.multivariate_normal(np.zeros(self.num_params), np.diag([1] * self.num_params))\n",
    "        \n",
    "        p = torch.tensor(p, dtype=torch.float32, requires_grad=False)\n",
    "        \n",
    "        with torch.no_grad():\n",
    "            U = self.U(model, tau)\n",
    "\n",
    "        q_proposed, p_proposed = self.solver.leapfrog(q, p, tau, model)\n",
    "        \n",
    "        with torch.no_grad():\n",
    "            \n",
    "            K = ((p ** 2) / (2 * self.m)).sum()\n",
    "\n",
    "            # Write proposed parameters into neural network\n",
    "            update_params(q_proposed, model, param_sizes)\n",
    "\n",
    "            # Evaluate potential energy with proposed parameters\n",
    "            U_proposed = self.U(model, tau)\n",
    "\n",
    "            K_proposed = ((p_proposed ** 2) / (2 * self.m)).sum()\n",
    "\n",
    "            log_energy_ratio = (U - U_proposed + K - K_proposed).detach().numpy()\n",
    "\n",
    "            u = np.random.uniform()\n",
    "            if u < np.exp(log_energy_ratio):\n",
    "                return q_proposed, 1\n",
    "            else:\n",
    "                return q, 0\n",
    "    \n",
    "    def run(self, model, param_sizes, theta, tau, num_samples=1000, burn_in=100):\n",
    "        \n",
    "        N = num_samples - burn_in\n",
    "        self.samples = np.zeros((N, self.num_params + 1))\n",
    "        acceptances = []\n",
    "        \n",
    "        for i in range(num_samples):\n",
    "            theta, acceptance = self.step(theta, tau, model, param_sizes)\n",
    "            \n",
    "            with torch.no_grad():\n",
    "                update_params(theta, model, param_sizes)\n",
    "                tau = self.p_tau(tau, model)\n",
    "            \n",
    "            if i >= burn_in:\n",
    "                j = i - burn_in\n",
    "                self.samples[j, 0] = 1 / np.sqrt(tau)\n",
    "                self.samples[j, 1:] = theta.detach().numpy()\n",
    "                acceptances.append(acceptance)\n",
    "        \n",
    "        return self.samples, acceptances\n",
    "    \n",
    "    def plot(self, true_params):\n",
    "        \n",
    "        num_params = self.num_params\n",
    "        plt.figure(figsize=(15, 5 * num_params))\n",
    "        param_names = [\"sigma\"]\n",
    "        \n",
    "        for i in range(num_params - 2):\n",
    "            param_names.append(\"weight \" + str(i+1))\n",
    "        param_names.append(\"intercept\")\n",
    "        \n",
    "        for i in range(num_params):\n",
    "            true_val = true_params[i]\n",
    "            samples = self.samples[:, i]\n",
    "            plt.subplot(num_params,2,i*2+1)\n",
    "            y, _, _ = plt.hist(samples, bins=100, label=\"samples\")\n",
    "            max_y = int(np.max(y))\n",
    "            plt.plot([true_val] * max_y, range(max_y), c=\"r\", label=\"true value\")\n",
    "            plt.title(\"Histogram for {}\".format(param_names[i]))\n",
    "            plt.legend()\n",
    "            plt.subplot(num_params,2,i*2+2)\n",
    "            plt.plot(samples, label=\"chain\")\n",
    "            plt.plot([0, samples.size], [true_val, true_val], c=\"r\", label=\"true value\")\n",
    "            plt.title(\"Trace plot for {}\".format(param_names[i]))\n",
    "            plt.legend()\n",
    "            \n",
    "        plt.show()\n",
    "\n",
    "    def evaluate(self, test_simulator):\n",
    "        \n",
    "        \"Computes MSE between test data and the predictions of the model\"\n",
    "        \n",
    "        test_covariates = test_simulator.X\n",
    "        mean_weights = self.samples.mean(axis=0)[1:]\n",
    "        predictions = test_covariates @ mean_weights\n",
    "        mse = ((predictions - test_simulator.y) ** 2).mean()\n",
    "        return mse"
   ]
  },
  {
   "cell_type": "code",
   "execution_count": 341,
   "metadata": {},
   "outputs": [],
   "source": [
    "# Define priors\n",
    "sigma_0 = 1.0\n",
    "alpha_0 = 0.001\n",
    "beta_0 = 0.001\n",
    "\n",
    "# Create helper functions\n",
    "X_tensor = torch.tensor(X, dtype=torch.float32, requires_grad=False)\n",
    "y_tensor = torch.tensor(y, dtype=torch.float32, requires_grad=False).view(-1, 1)\n",
    "U = create_U(X_tensor, y_tensor, sigma_0=sigma_0)\n",
    "grad_U = create_grad_U(X_tensor, y_tensor, sigma_0=sigma_0)\n",
    "p_tau = create_p_tau(X_tensor, y_tensor, alpha_0, beta_0, N)\n",
    "\n",
    "mlp = MLP()\n",
    "param_sizes = get_param_sizes(mlp)\n",
    "num_params = sum(param_sizes)\n",
    "\n",
    "# Define HMC parameters\n",
    "\n",
    "# Step size\n",
    "epsilon = 0.01\n",
    "\n",
    "# Number of steps in the proposal\n",
    "L = 20\n",
    "\n",
    "# Mass parameter\n",
    "m = 1.0\n",
    "\n",
    "solver = ODESolver(grad_U, epsilon, L, m, param_sizes)\n",
    "\n",
    "chain = HMC(U, grad_U, p_tau, m, num_params, solver)\n",
    "\n",
    "# Initialize chain\n",
    "theta = collect_params(mlp)\n",
    "tau = 1.0\n",
    "\n",
    "# Run chain\n",
    "samples, acceptances = chain.run(mlp, param_sizes, theta, tau, num_samples=4000, burn_in=1000)"
   ]
  },
  {
   "cell_type": "code",
   "execution_count": 352,
   "metadata": {},
   "outputs": [
    {
     "data": {
      "image/png": "[encoded data removed]",
      "text/plain": [
       "<Figure size 432x288 with 1 Axes>"
      ]
     },
     "metadata": {},
     "output_type": "display_data"
    }
   ],
   "source": [
    "plt.plot(samples[:, 5])\n",
    "plt.show()"
   ]
  },
  {
   "cell_type": "code",
   "execution_count": 342,
   "metadata": {},
   "outputs": [
    {
     "data": {
      "text/plain": [
       "tensor(0.2031, grad_fn=<MeanBackward0>)"
      ]
     },
     "execution_count": 342,
     "metadata": {},
     "output_type": "execute_result"
    }
   ],
   "source": [
    "mean_weights = samples[:, 1:].mean(axis=0).reshape(1, -1)\n",
    "mean_weights_tensor = torch.tensor(mean_weights, dtype=torch.float32)\n",
    "update_params(mean_weights_tensor, mlp, param_sizes)\n",
    "y_pred = mlp(X_tensor)\n",
    "mse = ((y_pred - y_tensor) ** 2).mean()\n",
    "mse"
   ]
  },
  {
   "cell_type": "code",
   "execution_count": 343,
   "metadata": {},
   "outputs": [
    {
     "data": {
      "text/plain": [
       "tensor(0.0233, dtype=torch.float64, grad_fn=<MeanBackward0>)"
      ]
     },
     "execution_count": 343,
     "metadata": {},
     "output_type": "execute_result"
    }
   ],
   "source": [
    "mse2 = ((y_pred.T - torch.tensor(simulator.y_mean).T) ** 2).mean()\n",
    "mse2"
   ]
  },
  {
   "cell_type": "code",
   "execution_count": 344,
   "metadata": {},
   "outputs": [
    {
     "data": {
      "image/png": "[encoded data removed]",
      "text/plain": [
       "<Figure size 432x288 with 1 Axes>"
      ]
     },
     "metadata": {},
     "output_type": "display_data"
    }
   ],
   "source": [
    "y_pred = y_pred.detach().numpy()\n",
    "plt.scatter(y_pred, simulator.y_mean, label=\"mean\")\n",
    "plt.scatter(y_pred, y, label=\"data\")\n",
    "grid = np.linspace(np.min(y_pred), np.max(y_pred), 100)\n",
    "plt.plot(grid, grid, label=\"Optimal fit\")\n",
    "plt.xlabel(\"Prediction\")\n",
    "plt.ylabel(\"Truth\")\n",
    "plt.legend()\n",
    "plt.show()"
   ]
  },
  {
   "cell_type": "code",
   "execution_count": null,
   "metadata": {
    "collapsed": true
   },
   "outputs": [],
   "source": []
  },
  {
   "cell_type": "code",
   "execution_count": 124,
   "metadata": {},
   "outputs": [
    {
     "data": {
      "text/plain": [
       "0.5133407495177593"
      ]
     },
     "execution_count": 124,
     "metadata": {},
     "output_type": "execute_result"
    }
   ],
   "source": [
    "np.random.gamma(5,1/5)"
   ]
  },
  {
   "cell_type": "code",
   "execution_count": null,
   "metadata": {
    "collapsed": true
   },
   "outputs": [],
   "source": []
  }
 ],
 "metadata": {
  "kernelspec": {
   "display_name": "Python 3",
   "language": "python",
   "name": "python3"
  },
  "language_info": {
   "codemirror_mode": {
    "name": "ipython",
    "version": 3
   },
   "file_extension": ".py",
   "mimetype": "text/x-python",
   "name": "python",
   "nbconvert_exporter": "python",
   "pygments_lexer": "ipython3",
   "version": "3.6.3"
  }
 },
 "nbformat": 4,
 "nbformat_minor": 2
}
