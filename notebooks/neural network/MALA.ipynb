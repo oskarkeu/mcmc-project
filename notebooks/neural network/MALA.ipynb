{
 "cells": [
  {
   "cell_type": "markdown",
   "metadata": {},
   "source": [
    "# Metropolis-adjusted Langevin algorithm Implementations for nonlinear regression with neural network\n",
    "\n",
    "The Metropolis-adjusted Langevin algorithm (MALA) is a Markov Chain Monte Carlo (MCMC) method for obtaining random samples from a probability distribution for which direct sampling is difficult. MALA uses a combination of two mechanisms to generate the states of a random walk\n",
    "- New states are proposed using Langevin dynamics: use evaluations of the gradient of the target probability density function\n",
    "- Proposals are accepted or rejected using Metropolis-Hasting algorithm"
   ]
  },
  {
   "cell_type": "code",
   "execution_count": 1,
   "metadata": {
    "collapsed": true
   },
   "outputs": [],
   "source": [
    "import numpy as np\n",
    "import pandas as pd\n",
    "import matplotlib.pyplot as plt\n",
    "\n",
    "import torch\n",
    "import torch.nn as nn\n",
    "import torch.nn.functional as F\n",
    "from scipy.stats import multivariate_normal as mvn"
   ]
  },
  {
   "cell_type": "code",
   "execution_count": 2,
   "metadata": {
    "collapsed": true
   },
   "outputs": [],
   "source": [
    "# Select device which you are going to use for training\n",
    "device = torch.device(\"cpu\")"
   ]
  },
  {
   "cell_type": "markdown",
   "metadata": {},
   "source": [
    "## Helper Functions\n",
    "Helper functions imported from helper files"
   ]
  },
  {
   "cell_type": "code",
   "execution_count": 3,
   "metadata": {
    "collapsed": true
   },
   "outputs": [],
   "source": [
    "class Simulator:\n",
    "    \n",
    "    def __init__(self, w, b, sigma, N, design_range=(-10,10)):\n",
    "        self.w = w\n",
    "        self.b = b\n",
    "        self.theta = np.expand_dims(np.concatenate([w, [b]], axis=0), axis=1)\n",
    "        self.sigma = sigma\n",
    "        self.N = N\n",
    "        self.design_range = design_range\n",
    "        self.X = None\n",
    "        self.y = None\n",
    "        self.y_mean = None\n",
    "        \n",
    "    def run(self):\n",
    "        designs = np.random.uniform(self.design_range[0], self.design_range[1], size=(self.N, self.w.size))\n",
    "        self.X = np.concatenate([designs, np.ones((self.N, 1))], axis=1)\n",
    "        self.y_mean = (self.X @ self.theta).squeeze()\n",
    "        self.y = np.random.multivariate_normal(mean=self.y_mean, cov=np.diag([self.sigma**2] * self.N))\n",
    "    \n",
    "    def plot(self):\n",
    "        x = self.X[:, 0]\n",
    "        plt.scatter(x, self.y, label=\"data\")\n",
    "        x_dense = np.linspace(self.design_range[0], self.design_range[1], 100)\n",
    "        y_dense = x_dense * self.w[0] + self.b\n",
    "        plt.plot(x_dense, y_dense, label=\"y mean\")\n",
    "        plt.xlabel(\"x\")\n",
    "        plt.ylabel(\"y\")\n",
    "        plt.legend()\n",
    "        plt.title(\"Simulated data, N=\"+str(self.N))\n",
    "        plt.show()"
   ]
  },
  {
   "cell_type": "code",
   "execution_count": 4,
   "metadata": {
    "collapsed": true
   },
   "outputs": [],
   "source": [
    "# Helper function for collecting nn gradient into a vector\n",
    "def collect_grads(model):\n",
    "    return torch.cat([p.grad.data.view(1, -1) for p in model.parameters()], dim=-1)\n",
    "\n",
    "# Helper function for computing sizes of all nn parameters\n",
    "def get_param_sizes(model):\n",
    "    return [p.reshape(-1).size()[0] for p in model.parameters()]\n",
    "\n",
    "# Helper function for writing the updated weights\n",
    "def update_params(new_params, model, param_sizes):\n",
    "    start_index = 0\n",
    "    for i, p in enumerate(model.parameters()):\n",
    "        end_index = start_index + param_sizes[i]\n",
    "        source_tensor = new_params[:, start_index:end_index].reshape(p.shape)\n",
    "        p.data = source_tensor\n",
    "        start_index = end_index\n",
    "\n",
    "def collect_params(model):\n",
    "    return torch.cat([p.data.view(1, -1) for p in model.parameters()], dim=-1)\n",
    "\n",
    "def print_params(model):\n",
    "    for p in model.parameters():\n",
    "        print(p.data)"
   ]
  },
  {
   "cell_type": "code",
   "execution_count": 5,
   "metadata": {
    "collapsed": true
   },
   "outputs": [],
   "source": [
    "# Helper function for constructing potential energy function\n",
    "def create_U(X, y, sigma_0):\n",
    "    \n",
    "    def U(nn, tau):\n",
    "        fit = -0.5 * tau * ((y - nn(X)) ** 2).sum()\n",
    "        params = collect_params(nn)\n",
    "        l2 = (params ** 2).sum()\n",
    "        reg = -l2 / (2 * sigma_0 ** 2)\n",
    "        return fit + reg\n",
    "    \n",
    "    return U\n",
    "\n",
    "# Helper function for constructing gradient of potential energy function\n",
    "def create_grad_U(X, y, sigma_0):\n",
    "    \n",
    "    def grad_U(nn, tau, U):\n",
    "        PE = U(nn, tau)\n",
    "        nn.zero_grad()\n",
    "        PE.backward()\n",
    "        grad = collect_grads(nn)\n",
    "        return grad\n",
    "    \n",
    "    return grad_U\n",
    "\n",
    "\n",
    "# Helper function for constructing conditional distribution for tau\n",
    "def create_p_tau(X, y, alpha_0, beta_0, N):\n",
    "    alpha = alpha_0 + N / 2\n",
    "    \n",
    "    def p_tau(tau, nn):\n",
    "        z = y - nn(X)\n",
    "        beta = (beta_0 + 0.5 * z.T @ z).detach().numpy().item()\n",
    "        return np.random.gamma(alpha, 1 / beta)\n",
    "    \n",
    "    return p_tau"
   ]
  },
  {
   "cell_type": "code",
   "execution_count": 6,
   "metadata": {
    "collapsed": true
   },
   "outputs": [],
   "source": [
    "# True weight(s)\n",
    "w = np.array([1.5, -1.0, 0.7])\n",
    "\n",
    "# Input dimensionality\n",
    "d = w.size\n",
    "\n",
    "# True intercept\n",
    "b = 0.5\n",
    "\n",
    "# True standard deviation\n",
    "sigma = 0.5\n",
    "\n",
    "# Number of data points\n",
    "N = 100\n",
    "\n",
    "# Defines range of inputs x\n",
    "design_range = (-1.0, 1.0)\n",
    "\n",
    "# Simulate\n",
    "simulator = Simulator(w, b, sigma, N, design_range)\n",
    "simulator.run()\n",
    "\n",
    "X = simulator.X\n",
    "y = simulator.y\n",
    "\n",
    "true_params = np.concatenate([[sigma], w, [b]], axis=0)\n"
   ]
  },
  {
   "cell_type": "markdown",
   "metadata": {},
   "source": [
    "### Step 1: Implement function that constructs MLP neural network\n",
    "It would be good to not hardcode the amount of hidden layers, layer dimensions or activation functions but instead make it so that these can be given as arguments to the function."
   ]
  },
  {
   "cell_type": "code",
   "execution_count": 7,
   "metadata": {
    "collapsed": true
   },
   "outputs": [],
   "source": [
    "# True weight(s)\n",
    "w = np.array([1.5, -1.0, 0.7])\n",
    "\n",
    "# Input dimensionality\n",
    "d = w.size"
   ]
  },
  {
   "cell_type": "code",
   "execution_count": 8,
   "metadata": {
    "collapsed": true
   },
   "outputs": [],
   "source": [
    "class MLP(nn.Module):\n",
    "    def __init__(self, num_inputs):\n",
    "        super(MLP, self).__init__()\n",
    "        \n",
    "        self.layer_1 = nn.Linear(num_inputs, 10)\n",
    "        self.output_layer = nn.Linear(10, 1)\n",
    "    \n",
    "    def forward(self, x):\n",
    "        x = torch.sigmoid(self.layer_1(x))\n",
    "        return self.output_layer(x)"
   ]
  },
  {
   "cell_type": "code",
   "execution_count": 9,
   "metadata": {
    "collapsed": true
   },
   "outputs": [],
   "source": [
    "# Start with one hidden layer: 2 inputs and 1 output\n",
    "# Replace log into L2_loss"
   ]
  },
  {
   "cell_type": "markdown",
   "metadata": {},
   "source": [
    "### Step 2: Evaluate and Sample \n",
    "Evaluate log \n",
    "$$\n",
    "log_p(\\theta | \\alpha^2, D) \\propto \\frac{-1}{2\\alpha^2} (y- f_\\theta(x))^T (y - f_\\theta(x)) - \\frac{1}{2\\alpha_0^2} \\theta^T\\theta $$\n",
    "\n",
    "where:\n",
    "- $log_p(\\theta | \\alpha^2, D)$ is L2 loss\n",
    "- $f_\\theta(x)$ is the neural network\n",
    "- $\\theta$ is a vector that contains all parameters of the neural network"
   ]
  },
  {
   "cell_type": "code",
   "execution_count": 10,
   "metadata": {
    "collapsed": true
   },
   "outputs": [],
   "source": [
    "#mlp = MLP()\n",
    "\n",
    "# Get all the nn parameters and store in theta\n",
    "#theta = torch.cat([x.reshape(-1) for x in mlp.parameters()])\n",
    "\n",
    "# L2 Loss calculation\n",
    "#X_tensor = torch.tensor(X, dtype=torch.float32, requires_grad=False)\n",
    "#y_tensor = torch.tensor(y, dtype=torch.float32, requires_grad=False).view(1, -1)\n",
    "#l2_loss = ((y_tensor - mlp(X_tensor)) ** 2).sum()\n",
    "\n",
    "# Define alpha 0\n",
    "#alpha_0 = 0.0001\n",
    "\n"
   ]
  },
  {
   "cell_type": "markdown",
   "metadata": {},
   "source": [
    "### Step 3: Implement MALA"
   ]
  },
  {
   "cell_type": "code",
   "execution_count": 11,
   "metadata": {
    "collapsed": true
   },
   "outputs": [],
   "source": [
    "# p(beta | X, y sigma2)\n",
    "def LOGPOST(mlp, beta, X, y, sigma2, beta0, Sigma2_0):\n",
    "    # print((y_tensor - mlp(X)).shape, ((y_tensor - mlp(X) / sigma2).shape)\n",
    "    #print(\"Forward\", mlp(X), \"y:\", y)\n",
    "    log_likelihood = (-0.5 * (y.T - mlp(X)).T @ (y.T - mlp(X)) / (2 * sigma2)).squeeze()\n",
    "    log_prior_beta = (-0.5 * (beta - beta0).reshape(1, -1) @ np.linalg.inv(Sigma2_0) @ (beta - beta0).reshape(-1, 1)).squeeze()\n",
    "    \n",
    "    #print(\"Likelihood\", log_likelihood, log_prior_beta)\n",
    "    return log_likelihood + log_prior_beta\n",
    "\n",
    "#Work in log form for numeric stability\n",
    "def ACCPT(mlp, beta_new, beta_old, x, y, sigma2, beta0, Sigma2_0, reverse_proposal_density, proposal_density):\n",
    "    PN = LOGPOST(mlp, beta_new, x, y, sigma2, beta0, Sigma2_0)\n",
    "    PO = LOGPOST(mlp, beta_old, x, y, sigma2, beta0, Sigma2_0)\n",
    "    ratio = np.exp(PN + np.log(reverse_proposal_density) - PO - np.log(proposal_density))\n",
    "\n",
    "    #print(\"Ratio: \", ratio, \"PN\", PN, \"PO\", PO, \"reverse pd\", np.log(reverse_proposal_density), \"pd\", np.log(proposal_density))\n",
    "    return min(1, ratio)"
   ]
  },
  {
   "cell_type": "code",
   "execution_count": 12,
   "metadata": {},
   "outputs": [],
   "source": [
    "# WIP: Implement MALA and get value y\n",
    "class MALA:\n",
    "    \n",
    "    def __init__(self, X, y, mlp, method):\n",
    "        # True weight(s)\n",
    "        self.w = np.array([1.5, -1.0, 0.7])\n",
    "\n",
    "        # Input dimensionality\n",
    "        self.d = self.w.size\n",
    "\n",
    "        # True intercept\n",
    "        self.b = 0.5\n",
    "        \n",
    "        # Preconditioner matrix\n",
    "        self.no_params = sum(get_param_sizes(mlp))\n",
    "        self.M = torch.tensor(np.identity(self.no_params)).float()\n",
    "        \n",
    "        # Step size for Euler-Maruyama\n",
    "        self.delta_t = 0.001\n",
    "        \n",
    "        # Standard deviation of weight prior\n",
    "        self.sigma_0 = 5\n",
    "        \n",
    "        # True standard deviation\n",
    "        self.sigma = 0.5\n",
    "        \n",
    "        self.X = X\n",
    "        self.y = y\n",
    "        \n",
    "        self.beta0 = np.zeros(self.no_params)\n",
    "        self.beta = np.zeros(self.no_params)\n",
    "        \n",
    "        # TODO: Should be create a sampling like in Gibbs\n",
    "        #self.sigma2 = 0.5\n",
    "        \n",
    "        # Shape parameter of noise prior\n",
    "        self.a0 = 0.001\n",
    "        \n",
    "        # Rate parameter of noise prior\n",
    "        self.b0 = 0.001\n",
    "        \n",
    "        # L2 Loss calculation\n",
    "        self.X_tensor = torch.tensor(X, dtype=torch.float32, requires_grad=False)\n",
    "        self.y_tensor = torch.tensor(y, dtype=torch.float32, requires_grad=False).view(1, -1)\n",
    "        \n",
    "        # Length of the chain\n",
    "        self.chain_length = 4000\n",
    "        \n",
    "        # Number of discarded samples from beginning\n",
    "        self.burn_in = 1000\n",
    "        \n",
    "        # Number of data points\n",
    "        self.N = 100\n",
    "        \n",
    "        self.Sigma2_0 = self.sigma_0 ** 2 * np.identity(self.no_params)\n",
    "        \n",
    "        self.method = method\n",
    "        \n",
    "    \n",
    "    def step(self, beta_old, sigma2, mlp, param_sizes):\n",
    "        \n",
    "        mlp.zero_grad()\n",
    "        \n",
    "        l2_0 = - (((self.y_tensor.T - mlp(self.X_tensor)) ** 2) / 2*sigma2).sum()\n",
    "        params = collect_params(mlp)\n",
    "        l2 = (params ** 2).sum()\n",
    "        reg = l2 / (2 * self.sigma_0 ** 2)\n",
    "        l2_loss = l2_0 - reg\n",
    "        \n",
    "        l2_loss.backward()\n",
    "        \n",
    "        l2_loss_old = l2_loss.clone()\n",
    "        \n",
    "        with torch.no_grad():\n",
    "            grad = collect_grads(mlp)\n",
    "            \n",
    "            proposal_mean = torch.squeeze(beta_old.T + 0.5 * self.delta_t * self.M @ grad.T )\n",
    "            proposal_cov = self.M * self.delta_t \n",
    "\n",
    "            beta_proposed = np.random.multivariate_normal(mean=proposal_mean, cov=proposal_cov)\n",
    "            beta_proposed = torch.tensor(beta_proposed, dtype=torch.float32, requires_grad=False).view(1,-1)\n",
    "            \n",
    "            proposal_density = mvn.pdf(beta_proposed.squeeze().detach().numpy(), \n",
    "                                       proposal_mean.squeeze().detach().numpy(), \n",
    "                                       proposal_cov.squeeze().detach().numpy())\n",
    "            \n",
    "            update_params(beta_proposed, mlp, param_sizes)\n",
    "            \n",
    "        if self.method == \"ULA\":\n",
    "                return beta_proposed, 1\n",
    "        elif self.method == \"MALA\":\n",
    "        \n",
    "            mlp.zero_grad()\n",
    "\n",
    "            l2_0 = - (((self.y_tensor.T - mlp(self.X_tensor)) ** 2) / 2*sigma2).sum()\n",
    "            params = collect_params(mlp)\n",
    "            l2 = (params ** 2).sum()\n",
    "            reg = l2 / (2 * self.sigma_0 ** 2)\n",
    "            l2_loss = l2_0 - reg\n",
    "\n",
    "            l2_loss.backward()\n",
    "\n",
    "            with torch.no_grad():\n",
    "                grad = collect_grads(mlp)\n",
    "                reverse_proposal_mean = (beta_proposed + 0.5 * (self.delta_t * self.M @ grad.T).T).squeeze()\n",
    "\n",
    "                reverse_proposal_density = mvn.pdf(beta_old.squeeze().detach().numpy(), \n",
    "                                                   reverse_proposal_mean.squeeze().detach().numpy(), \n",
    "                                                   proposal_cov.squeeze().detach().numpy())\n",
    "\n",
    "                #alpha = ACCPT(mlp, beta_proposed, beta_old, self.X_tensor, self.y_tensor, \n",
    "                #              sigma2, self.beta0, self.Sigma2_0, reverse_proposal_density, proposal_density)\n",
    "\n",
    "                alpha = np.exp(l2_loss.detach().numpy().item() + np.log(reverse_proposal_density) - l2_loss_old.detach().numpy().item() - np.log(proposal_density))\n",
    "\n",
    "                u = np.random.uniform()\n",
    "\n",
    "                if u < alpha:\n",
    "                    return beta_proposed, 1\n",
    "                else:\n",
    "                    update_params(beta_old, mlp, param_sizes)\n",
    "                    return beta_old, 0\n",
    "                \n",
    "        else:\n",
    "            raise NotimplementedError(\"Method must be ULA or MALA\")\n",
    "    \n",
    "    \n",
    "    def run(self, model, param_sizes, theta, tau):\n",
    "        \n",
    "        num_samples = self.chain_length - self.burn_in\n",
    "        self.samples = np.zeros((num_samples, self.no_params + 1))\n",
    "        acceptances = []\n",
    "        \n",
    "        for i in range(self.chain_length):\n",
    "            theta, acceptance = self.step(theta, 1/tau, model, param_sizes)\n",
    "            #print(\"Theta\", theta, \"Acceptance\", acceptance)\n",
    "            \n",
    "            with torch.no_grad():\n",
    "                update_params(theta.view(1,-1), model, param_sizes)\n",
    "                tau = p_tau(tau, model)\n",
    "    \n",
    "            if i >= self.burn_in:\n",
    "                j = i - self.burn_in\n",
    "                self.samples[j, 0] = np.sqrt(1/tau)\n",
    "                self.samples[j, 1:] = theta.detach().numpy().squeeze()\n",
    "                acceptances.append(acceptance)\n",
    "                \n",
    "        acceptance_rate = np.array(acceptances).mean()\n",
    "        \n",
    "        return self.samples, acceptance_rate\n",
    "    \n",
    "    \n",
    "    def plot(self):\n",
    "        \n",
    "        true_params = np.concatenate([[self.sigma], self.w, [self.b]], axis=0)\n",
    "        \n",
    "        num_params = self.no_params + 1\n",
    "        plt.figure(figsize=(15, 5 * num_params))\n",
    "        param_names = [\"sigma\"]\n",
    "        \n",
    "        for i in range(num_params - 2):\n",
    "            param_names.append(\"weight \" + str(i+1))\n",
    "        param_names.append(\"intercept\")\n",
    "        \n",
    "        for i in range(num_params):\n",
    "            true_val = true_params[i]\n",
    "            samples = self.samples[:, i]\n",
    "            plt.subplot(num_params,2,i*2+1)\n",
    "            y, _, _ = plt.hist(samples, bins=100, label=\"samples\")\n",
    "            max_y = int(np.max(y))\n",
    "            plt.plot([true_val] * max_y, range(max_y), c=\"r\", label=\"true value\")\n",
    "            plt.title(\"Histogram for {}\".format(param_names[i]))\n",
    "            plt.legend()\n",
    "            plt.subplot(num_params,2,i*2+2)\n",
    "            plt.plot(samples, label=\"chain\")\n",
    "            plt.plot([0, samples.size], [true_val, true_val], c=\"r\", label=\"true value\")\n",
    "            plt.title(\"Trace plot for {}\".format(param_names[i]))\n",
    "            plt.legend()\n",
    "            \n",
    "        plt.show()"
   ]
  },
  {
   "cell_type": "code",
   "execution_count": 13,
   "metadata": {},
   "outputs": [],
   "source": [
    "# Define priors\n",
    "#sigma_0 = 1.0\n",
    "alpha_0 = 0.001\n",
    "beta_0 = 0.001\n",
    "\n",
    "# Create helper functions\n",
    "X_tensor = torch.tensor(X, dtype=torch.float32, requires_grad=False)\n",
    "y_tensor = torch.tensor(y, dtype=torch.float32, requires_grad=False).view(-1, 1)\n",
    "#U = create_U(X_tensor, y_tensor, sigma_0=sigma_0)\n",
    "#grad_U = create_grad_U(X_tensor, y_tensor, sigma_0=sigma_0)\n",
    "p_tau = create_p_tau(X_tensor, y_tensor, alpha_0, beta_0, N)\n",
    "\n",
    "# Compute number of MLP inputs from design matrix dimensions\n",
    "num_mlp_inputs = X.shape[-1]\n",
    "\n",
    "mlp = MLP(num_inputs=num_mlp_inputs)\n",
    "param_sizes = get_param_sizes(mlp)\n",
    "num_params = sum(param_sizes)\n",
    "\n",
    "# Define HMC parameters\n",
    "\n",
    "# Step size\n",
    "#epsilon = 0.01\n",
    "\n",
    "# Number of steps in the proposal\n",
    "#L = 20\n",
    "\n",
    "# Mass parameter\n",
    "#m = 1.0\n",
    "\n",
    "chain = MALA(X, y, mlp, method=\"ULA\")\n",
    "\n",
    "# Initialize chain\n",
    "theta = collect_params(mlp)\n",
    "tau = 1.0\n",
    "\n",
    "# Run chain\n",
    "samples, acceptances = chain.run(mlp, param_sizes, theta, tau)"
   ]
  },
  {
   "cell_type": "code",
   "execution_count": 14,
   "metadata": {},
   "outputs": [
    {
     "data": {
      "image/png": "[encoded data removed]",
      "text/plain": [
       "<Figure size 432x288 with 1 Axes>"
      ]
     },
     "metadata": {},
     "output_type": "display_data"
    }
   ],
   "source": [
    "plt.plot(samples[:, 5])\n",
    "plt.show()"
   ]
  },
  {
   "cell_type": "code",
   "execution_count": 15,
   "metadata": {},
   "outputs": [
    {
     "data": {
      "image/png": "[encoded data removed]",
      "text/plain": [
       "<Figure size 432x288 with 1 Axes>"
      ]
     },
     "metadata": {},
     "output_type": "display_data"
    }
   ],
   "source": [
    "plt.plot(samples[:, 0])\n",
    "plt.show()"
   ]
  },
  {
   "cell_type": "code",
   "execution_count": 16,
   "metadata": {},
   "outputs": [
    {
     "data": {
      "text/plain": [
       "tensor(0.3417, grad_fn=<MeanBackward0>)"
      ]
     },
     "execution_count": 16,
     "metadata": {},
     "output_type": "execute_result"
    }
   ],
   "source": [
    "mean_weights = samples[:, 1:].mean(axis=0).reshape(1, -1)\n",
    "mean_weights_tensor = torch.tensor(mean_weights, dtype=torch.float32)\n",
    "update_params(mean_weights_tensor, mlp, param_sizes)\n",
    "y_pred = mlp(X_tensor)\n",
    "mse = ((y_pred - y_tensor) ** 2).mean()\n",
    "mse"
   ]
  },
  {
   "cell_type": "code",
   "execution_count": 17,
   "metadata": {},
   "outputs": [
    {
     "data": {
      "text/plain": [
       "tensor(0.0999, dtype=torch.float64, grad_fn=<MeanBackward0>)"
      ]
     },
     "execution_count": 17,
     "metadata": {},
     "output_type": "execute_result"
    }
   ],
   "source": [
    "mse2 = ((y_pred.T - torch.tensor(simulator.y_mean).T) ** 2).mean()\n",
    "mse2"
   ]
  },
  {
   "cell_type": "code",
   "execution_count": 18,
   "metadata": {},
   "outputs": [
    {
     "data": {
      "image/png": "[encoded data removed]",
      "text/plain": [
       "<Figure size 432x288 with 1 Axes>"
      ]
     },
     "metadata": {},
     "output_type": "display_data"
    }
   ],
   "source": [
    "y_pred = y_pred.detach().numpy()\n",
    "plt.scatter(y_pred, simulator.y_mean, label=\"mean\")\n",
    "plt.scatter(y_pred, y, label=\"data\")\n",
    "grid = np.linspace(np.min(y_pred), np.max(y_pred), 100)\n",
    "plt.plot(grid, grid, label=\"Optimal fit\")\n",
    "plt.xlabel(\"Prediction\")\n",
    "plt.ylabel(\"Truth\")\n",
    "plt.legend()\n",
    "plt.show()"
   ]
  },
  {
   "cell_type": "code",
   "execution_count": 19,
   "metadata": {},
   "outputs": [],
   "source": [
    "chain = MALA(X, y, mlp, method=\"MALA\")\n",
    "\n",
    "mlp = MLP(num_inputs=num_mlp_inputs)\n",
    "\n",
    "# Initialize chain\n",
    "theta = collect_params(mlp)\n",
    "tau = 1.0\n",
    "\n",
    "# Run chain\n",
    "samples, acceptances = chain.run(mlp, param_sizes, theta, tau)"
   ]
  },
  {
   "cell_type": "code",
   "execution_count": 20,
   "metadata": {},
   "outputs": [
    {
     "data": {
      "text/plain": [
       "tensor(0.4913, grad_fn=<MeanBackward0>)"
      ]
     },
     "execution_count": 20,
     "metadata": {},
     "output_type": "execute_result"
    }
   ],
   "source": [
    "mean_weights = samples[:, 1:].mean(axis=0).reshape(1, -1)\n",
    "mean_weights_tensor = torch.tensor(mean_weights, dtype=torch.float32)\n",
    "update_params(mean_weights_tensor, mlp, param_sizes)\n",
    "y_pred = mlp(X_tensor)\n",
    "mse = ((y_pred - y_tensor) ** 2).mean()\n",
    "mse"
   ]
  },
  {
   "cell_type": "code",
   "execution_count": 21,
   "metadata": {},
   "outputs": [
    {
     "data": {
      "text/plain": [
       "tensor(0.1710, dtype=torch.float64, grad_fn=<MeanBackward0>)"
      ]
     },
     "execution_count": 21,
     "metadata": {},
     "output_type": "execute_result"
    }
   ],
   "source": [
    "mse2 = ((y_pred.T - torch.tensor(simulator.y_mean).T) ** 2).mean()\n",
    "mse2"
   ]
  },
  {
   "cell_type": "code",
   "execution_count": 22,
   "metadata": {},
   "outputs": [
    {
     "data": {
      "image/png": "[encoded data removed]",
      "text/plain": [
       "<Figure size 432x288 with 1 Axes>"
      ]
     },
     "metadata": {},
     "output_type": "display_data"
    }
   ],
   "source": [
    "y_pred = y_pred.detach().numpy()\n",
    "plt.scatter(y_pred, simulator.y_mean, label=\"mean\")\n",
    "plt.scatter(y_pred, y, label=\"data\")\n",
    "grid = np.linspace(np.min(y_pred), np.max(y_pred), 100)\n",
    "plt.plot(grid, grid, label=\"Optimal fit\")\n",
    "plt.xlabel(\"Prediction\")\n",
    "plt.ylabel(\"Truth\")\n",
    "plt.legend()\n",
    "plt.show()"
   ]
  },
  {
   "cell_type": "code",
   "execution_count": null,
   "metadata": {
    "collapsed": true
   },
   "outputs": [],
   "source": []
  }
 ],
 "metadata": {
  "kernelspec": {
   "display_name": "Python 3",
   "language": "python",
   "name": "python3"
  },
  "language_info": {
   "codemirror_mode": {
    "name": "ipython",
    "version": 3
   },
   "file_extension": ".py",
   "mimetype": "text/x-python",
   "name": "python",
   "nbconvert_exporter": "python",
   "pygments_lexer": "ipython3",
   "version": "3.6.3"
  }
 },
 "nbformat": 4,
 "nbformat_minor": 5
}
