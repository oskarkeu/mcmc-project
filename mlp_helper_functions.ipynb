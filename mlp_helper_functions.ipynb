{
 "cells": [
  {
   "cell_type": "code",
   "execution_count": 3,
   "metadata": {
    "collapsed": true
   },
   "outputs": [],
   "source": [
    "import numpy as np\n",
    "import matplotlib.pyplot as plt\n",
    "import torch\n",
    "import torch.nn as nn"
   ]
  },
  {
   "cell_type": "code",
   "execution_count": 10,
   "metadata": {
    "collapsed": true
   },
   "outputs": [],
   "source": [
    "class Simulator:\n",
    "    \n",
    "    def __init__(self, w, b, sigma, N, design_range=(-10,10)):\n",
    "        self.w = w\n",
    "        self.b = b\n",
    "        self.theta = np.expand_dims(np.concatenate([w, [b]], axis=0), axis=1)\n",
    "        self.sigma = sigma\n",
    "        self.N = N\n",
    "        self.design_range = design_range\n",
    "        self.X = None\n",
    "        self.y = None\n",
    "        self.y_mean = None\n",
    "        \n",
    "    def run(self):\n",
    "        designs = np.random.uniform(self.design_range[0], self.design_range[1], size=(self.N, self.w.size))\n",
    "        self.X = np.concatenate([designs, np.ones((self.N, 1))], axis=1)\n",
    "        self.y_mean = (self.X @ self.theta).squeeze()\n",
    "        self.y = np.random.multivariate_normal(mean=self.y_mean, cov=np.diag([self.sigma**2] * self.N))\n",
    "    \n",
    "    def plot(self):\n",
    "        x = self.X[:, 0]\n",
    "        plt.scatter(x, self.y, label=\"data\")\n",
    "        x_dense = np.linspace(self.design_range[0], self.design_range[1], 100)\n",
    "        y_dense = x_dense * self.w[0] + self.b\n",
    "        plt.plot(x_dense, y_dense, label=\"y mean\")\n",
    "        plt.xlabel(\"x\")\n",
    "        plt.ylabel(\"y\")\n",
    "        plt.legend()\n",
    "        plt.title(\"Simulated data, N=\"+str(self.N))\n",
    "        plt.show()"
   ]
  },
  {
   "cell_type": "code",
   "execution_count": 75,
   "metadata": {
    "collapsed": true
   },
   "outputs": [],
   "source": [
    "# True weight(s)\n",
    "w = np.array([1.5, -1.0, 0.7])\n",
    "\n",
    "# Input dimensionality\n",
    "d = w.size\n",
    "\n",
    "# True intercept\n",
    "b = 0.5\n",
    "\n",
    "# True standard deviation\n",
    "sigma = 0.5\n",
    "\n",
    "# Number of data points\n",
    "N = 100\n",
    "\n",
    "# Defines range of inputs x\n",
    "design_range = (-1.0, 1.0)\n",
    "\n",
    "# Simulate\n",
    "simulator = Simulator(w, b, sigma, N, design_range)\n",
    "simulator.run()\n",
    "\n",
    "X = simulator.X\n",
    "y = simulator.y"
   ]
  },
  {
   "cell_type": "code",
   "execution_count": 29,
   "metadata": {},
   "outputs": [],
   "source": [
    "class MLP(nn.Module):\n",
    "    def __init__(self):\n",
    "        super(MLP, self).__init__()\n",
    "        self.layer_1 = nn.Linear(d + 1, 16)\n",
    "        self.layer_2 = nn.Linear(16, 32)\n",
    "        self.output_layer = nn.Linear(16, 1)\n",
    "    def forward(self, x):\n",
    "        x = torch.sigmoid(self.layer_1(x))\n",
    "        x = torch.sigmoid(self.layer_2(x))\n",
    "        return self.output_layer(x)"
   ]
  },
  {
   "cell_type": "code",
   "execution_count": 67,
   "metadata": {
    "collapsed": true
   },
   "outputs": [],
   "source": [
    "# Helper function for collecting nn gradient into a vector\n",
    "def collect_grads(model):\n",
    "    return torch.cat([p.grad.data.view(1, -1) for p in model.parameters()], dim=-1)\n",
    "\n",
    "# Helper function for computing sizes of all nn parameters\n",
    "def get_param_sizes(model):\n",
    "    return [p.reshape(-1).size()[0] for p in model.parameters()]\n",
    "\n",
    "# Helper function for writing the updated weights\n",
    "def update_params(new_params, model, param_sizes):\n",
    "    start_index = 0\n",
    "    for i, p in enumerate(model.parameters()):\n",
    "        end_index = start_index + param_sizes[i]\n",
    "        source_tensor = new_params[:, start_index:end_index].reshape(p.shape)\n",
    "        p.data = source_tensor\n",
    "        start_index = end_index"
   ]
  },
  {
   "cell_type": "code",
   "execution_count": 68,
   "metadata": {},
   "outputs": [
    {
     "data": {
      "text/plain": [
       "[64, 16, 512, 32, 32, 1]"
      ]
     },
     "execution_count": 68,
     "metadata": {},
     "output_type": "execute_result"
    }
   ],
   "source": [
    "mlp = MLP()\n",
    "param_sizes = get_param_sizes(mlp)\n",
    "param_sizes"
   ]
  },
  {
   "cell_type": "code",
   "execution_count": 69,
   "metadata": {},
   "outputs": [
    {
     "data": {
      "text/plain": [
       "657"
      ]
     },
     "execution_count": 69,
     "metadata": {},
     "output_type": "execute_result"
    }
   ],
   "source": [
    "num_params = sum(param_sizes)\n",
    "num_params"
   ]
  },
  {
   "cell_type": "code",
   "execution_count": 70,
   "metadata": {},
   "outputs": [
    {
     "data": {
      "text/plain": [
       "tensor(203.5119, grad_fn=<SumBackward0>)"
      ]
     },
     "execution_count": 70,
     "metadata": {},
     "output_type": "execute_result"
    }
   ],
   "source": [
    "X_tensor = torch.tensor(X, dtype=torch.float32, requires_grad=False)\n",
    "y_tensor = torch.tensor(y, dtype=torch.float32, requires_grad=False).view(-1, 1)\n",
    "\n",
    "l2_loss = ((y_tensor - mlp(X_tensor)) ** 2).sum()\n",
    "l2_loss"
   ]
  },
  {
   "cell_type": "code",
   "execution_count": 71,
   "metadata": {
    "collapsed": true
   },
   "outputs": [],
   "source": [
    "mlp.zero_grad()\n",
    "l2_loss.backward()"
   ]
  },
  {
   "cell_type": "code",
   "execution_count": 72,
   "metadata": {},
   "outputs": [
    {
     "data": {
      "text/plain": [
       "torch.Size([1, 657])"
      ]
     },
     "execution_count": 72,
     "metadata": {},
     "output_type": "execute_result"
    }
   ],
   "source": [
    "gradient = collect_grads(mlp)\n",
    "gradient.shape"
   ]
  },
  {
   "cell_type": "code",
   "execution_count": 73,
   "metadata": {
    "collapsed": true
   },
   "outputs": [],
   "source": [
    "# Do some random ops\n",
    "with torch.no_grad():\n",
    "    beta = gradient ** 2\n",
    "    beta = beta - 0.4"
   ]
  },
  {
   "cell_type": "code",
   "execution_count": 74,
   "metadata": {},
   "outputs": [],
   "source": [
    "update_params(new_params=beta, model=mlp, param_sizes=param_sizes)"
   ]
  },
  {
   "cell_type": "code",
   "execution_count": null,
   "metadata": {
    "collapsed": true
   },
   "outputs": [],
   "source": []
  },
  {
   "cell_type": "code",
   "execution_count": null,
   "metadata": {
    "collapsed": true
   },
   "outputs": [],
   "source": []
  },
  {
   "cell_type": "code",
   "execution_count": null,
   "metadata": {
    "collapsed": true
   },
   "outputs": [],
   "source": []
  },
  {
   "cell_type": "code",
   "execution_count": null,
   "metadata": {
    "collapsed": true
   },
   "outputs": [],
   "source": []
  },
  {
   "cell_type": "code",
   "execution_count": null,
   "metadata": {
    "collapsed": true
   },
   "outputs": [],
   "source": []
  }
 ],
 "metadata": {
  "kernelspec": {
   "display_name": "Python 3",
   "language": "python",
   "name": "python3"
  },
  "language_info": {
   "codemirror_mode": {
    "name": "ipython",
    "version": 3
   },
   "file_extension": ".py",
   "mimetype": "text/x-python",
   "name": "python",
   "nbconvert_exporter": "python",
   "pygments_lexer": "ipython3",
   "version": "3.6.3"
  }
 },
 "nbformat": 4,
 "nbformat_minor": 2
}
